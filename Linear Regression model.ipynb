{
 "cells": [
  {
   "cell_type": "code",
   "execution_count": 440,
   "metadata": {},
   "outputs": [],
   "source": [
    "#Имопортирую библиотеки\n",
    "%matplotlib inline\n",
    "import os\n",
    "import numpy as np\n",
    "import pandas as pd\n",
    "import matplotlib.pyplot as plt\n",
    "from sklearn.linear_model import LinearRegression\n",
    "from mpl_toolkits.mplot3d import Axes3D\n",
    "from numpy import (linspace,logspace,zeros,ones,outer,meshgrid,\n",
    "                   pi,sin,cos,sqrt,exp)\n",
    "from statsmodels.regression.linear_model import OLS\n",
    "from statsmodels.tools import add_constant\n",
    "import statsmodels.api as sm\n",
    "from numpy.random import normal"
   ]
  },
  {
   "cell_type": "code",
   "execution_count": 441,
   "metadata": {},
   "outputs": [],
   "source": [
    "#Настраиваю отображение пандас\n",
    "pd.options.display.max_rows = 150\n",
    "plt.style.use('ggplot')\n",
    "plt.rcParams['figure.figsize'] = (5, 5)\n",
    "plt.rcParams['font.family'] = 'sans-serif'"
   ]
  },
  {
   "cell_type": "code",
   "execution_count": 461,
   "metadata": {},
   "outputs": [
    {
     "name": "stdout",
     "output_type": "stream",
     "text": [
      "[-0.0129, 0.006, -0.0005, 0.0102, 0.0056, -0.0043, 0.0075, 0.0096, 0.0046, 0.0032, 0.0024, 0.0035, -0.0051, 0.0025, 0.0059, -0.0011, 0.0001, 0.0003, 0.0062, -0.0015]\n",
      "[0.0006, -0.0094, -0.0034, 0.0013, 0.0028, -0.0039, 0.0022, 0.0002, 0.0015, -0.0075, -0.005, -0.0189, -0.0049, -0.0087, 0.0032, -0.0096, -0.0025, -0.0061, -0.0009, 0.0119]\n"
     ]
    }
   ],
   "source": [
    "#Задаем исходные данные х - Доходность ММВБ, y - доходность алроса\n",
    "Xi = [-0.0129, 0.0060, -0.0005, 0.0102, 0.0056, -0.0043, 0.0075, 0.0096, 0.0046, 0.0032, 0.0024, 0.0035, -0.0051, 0.0025, 0.0059, -0.0011, 0.0001, 0.0003, 0.0062, -0.0015]\n",
    "Yi = [0.0006, -0.0094, -0.0034, 0.0013, 0.0028, -0.0039, 0.0022, 0.0002, 0.0015, -0.0075, -0.0050, -0.0189, -0.0049, -0.0087, 0.0032, -0.0096, -0.0025, -0.0061, -0.0009, 0.0119]\n",
    "print(Xi)\n",
    "print(Yi)"
   ]
  },
  {
   "cell_type": "code",
   "execution_count": 462,
   "metadata": {},
   "outputs": [
    {
     "data": {
      "text/plain": [
       "(array([-0.03, -0.02, -0.01,  0.  ,  0.01,  0.02,  0.03]),\n",
       " <a list of 7 Text xticklabel objects>)"
      ]
     },
     "execution_count": 462,
     "metadata": {},
     "output_type": "execute_result"
    },
    {
     "data": {
      "image/png": "[encoded data removed]",
      "text/plain": [
       "<Figure size 360x360 with 1 Axes>"
      ]
     },
     "metadata": {},
     "output_type": "display_data"
    }
   ],
   "source": [
    "#Строим облако наблюдений\n",
    "scatter(Xi, Yi)\n",
    "plt.xticks(rotation = 50)"
   ]
  },
  {
   "cell_type": "code",
   "execution_count": 463,
   "metadata": {},
   "outputs": [
    {
     "name": "stdout",
     "output_type": "stream",
     "text": [
      "[[-0.0129]\n",
      " [ 0.006 ]\n",
      " [-0.0005]\n",
      " [ 0.0102]\n",
      " [ 0.0056]\n",
      " [-0.0043]\n",
      " [ 0.0075]\n",
      " [ 0.0096]\n",
      " [ 0.0046]\n",
      " [ 0.0032]\n",
      " [ 0.0024]\n",
      " [ 0.0035]\n",
      " [-0.0051]\n",
      " [ 0.0025]\n",
      " [ 0.0059]\n",
      " [-0.0011]\n",
      " [ 0.0001]\n",
      " [ 0.0003]\n",
      " [ 0.0062]\n",
      " [-0.0015]]\n",
      "[ 0.0006 -0.0094 -0.0034  0.0013  0.0028 -0.0039  0.0022  0.0002  0.0015\n",
      " -0.0075 -0.005  -0.0189 -0.0049 -0.0087  0.0032 -0.0096 -0.0025 -0.0061\n",
      " -0.0009  0.0119]\n"
     ]
    }
   ],
   "source": [
    "npXi = np.array(Xi).reshape((-1,1))\n",
    "npYi = np.array(Yi)\n",
    "print(npXi)\n",
    "print(npYi)"
   ]
  },
  {
   "cell_type": "code",
   "execution_count": 464,
   "metadata": {
    "scrolled": true
   },
   "outputs": [
    {
     "name": "stdout",
     "output_type": "stream",
     "text": [
      "Y = -0.002980230258461902 + [0.05935083] *X\n",
      "coefficient of determination: 0.002543246392984866\n",
      "intercept: -0.002980230258461902\n",
      "slope: [0.05935083]\n"
     ]
    }
   ],
   "source": [
    "#Задаем регрессионную модель исходя из наших данных, находим к R2 коэффициент детерминации, \n",
    "#находим нулевую точку и наклон, выводим формулу функции\n",
    "model = LinearRegression().fit(npXi, npYi)\n",
    "r_sq = model.score(npXi, npYi)\n",
    "print('Y =', model.intercept_,'+', model.coef_, '*X')\n",
    "print('coefficient of determination:', r_sq)\n",
    "print('intercept:', model.intercept_)\n",
    "print('slope:', model.coef_)"
   ]
  },
  {
   "cell_type": "code",
   "execution_count": 456,
   "metadata": {},
   "outputs": [
    {
     "name": "stdout",
     "output_type": "stream",
     "text": [
      "[[ 1.00e+00 -1.29e-02]\n",
      " [ 1.00e+00  6.00e-03]\n",
      " [ 1.00e+00 -5.00e-04]\n",
      " [ 1.00e+00  1.02e-02]\n",
      " [ 1.00e+00  5.60e-03]\n",
      " [ 1.00e+00 -4.30e-03]\n",
      " [ 1.00e+00  7.50e-03]\n",
      " [ 1.00e+00  9.60e-03]\n",
      " [ 1.00e+00  4.60e-03]\n",
      " [ 1.00e+00  3.20e-03]\n",
      " [ 1.00e+00  2.40e-03]\n",
      " [ 1.00e+00  3.50e-03]\n",
      " [ 1.00e+00 -5.10e-03]\n",
      " [ 1.00e+00  2.50e-03]\n",
      " [ 1.00e+00  5.90e-03]\n",
      " [ 1.00e+00 -1.10e-03]\n",
      " [ 1.00e+00  1.00e-04]\n",
      " [ 1.00e+00  3.00e-04]\n",
      " [ 1.00e+00  6.20e-03]\n",
      " [ 1.00e+00 -1.50e-03]]\n",
      "                            OLS Regression Results                            \n",
      "==============================================================================\n",
      "Dep. Variable:                      y   R-squared:                       0.003\n",
      "Model:                            OLS   Adj. R-squared:                 -0.053\n",
      "Method:                 Least Squares   F-statistic:                   0.04590\n",
      "Date:                Mon, 10 Feb 2020   Prob (F-statistic):              0.833\n",
      "Time:                        20:45:00   Log-Likelihood:                 72.969\n",
      "No. Observations:                  20   AIC:                            -141.9\n",
      "Df Residuals:                      18   BIC:                            -139.9\n",
      "Df Model:                           1                                         \n",
      "Covariance Type:            nonrobust                                         \n",
      "==============================================================================\n",
      "                 coef    std err          t      P>|t|      [0.025      0.975]\n",
      "------------------------------------------------------------------------------\n",
      "const         -0.0030      0.002     -1.868      0.078      -0.006       0.000\n",
      "x1             0.0594      0.277      0.214      0.833      -0.523       0.641\n",
      "==============================================================================\n",
      "Omnibus:                        2.717   Durbin-Watson:                   1.663\n",
      "Prob(Omnibus):                  0.257   Jarque-Bera (JB):                1.052\n",
      "Skew:                          -0.218   Prob(JB):                        0.591\n",
      "Kurtosis:                       4.036   Cond. No.                         187.\n",
      "==============================================================================\n",
      "\n",
      "Warnings:\n",
      "[1] Standard Errors assume that the covariance matrix of the errors is correctly specified.\n"
     ]
    }
   ],
   "source": [
    "#Проверим больше показателей через библиотеку статмодель, \n",
    "#и посмотрим % качества модели по показателям AIC и BIC\n",
    "x = sm.add_constant(npXi)\n",
    "print(x)\n",
    "model2 = sm.OLS(npYi, x)\n",
    "results = model2.fit()\n",
    "print(results.summary())"
   ]
  },
  {
   "cell_type": "code",
   "execution_count": 457,
   "metadata": {},
   "outputs": [
    {
     "name": "stdout",
     "output_type": "stream",
     "text": [
      "predicted response:\n",
      "[[-0.00374586]\n",
      " [-0.00262413]\n",
      " [-0.00300991]\n",
      " [-0.00237485]\n",
      " [-0.00264787]\n",
      " [-0.00323544]\n",
      " [-0.0025351 ]\n",
      " [-0.00241046]\n",
      " [-0.00270722]\n",
      " [-0.00279031]\n",
      " [-0.00283779]\n",
      " [-0.0027725 ]\n",
      " [-0.00328292]\n",
      " [-0.00283185]\n",
      " [-0.00263006]\n",
      " [-0.00304552]\n",
      " [-0.0029743 ]\n",
      " [-0.00296243]\n",
      " [-0.00261226]\n",
      " [-0.00306926]]\n"
     ]
    }
   ],
   "source": [
    "#Задаем функцию по линейной прямой в переменную y_pred\n",
    "y_pred = model.intercept_ + model.coef_ * npXi\n",
    "print('predicted response:', y_pred, sep='\\n')\n"
   ]
  },
  {
   "cell_type": "code",
   "execution_count": 458,
   "metadata": {},
   "outputs": [
    {
     "name": "stdout",
     "output_type": "stream",
     "text": [
      "[[0]\n",
      " [1]\n",
      " [2]\n",
      " [3]\n",
      " [4]]\n",
      "[-0.00298023  0.0563706   0.11572144  0.17507227  0.2344231 ]\n"
     ]
    }
   ],
   "source": [
    "\n",
    "x_new = np.arange(5).reshape((-1, 1))\n",
    "y_new = model.predict(x_new)\n",
    "print(x_new)\n",
    "print(y_new)"
   ]
  },
  {
   "cell_type": "code",
   "execution_count": 459,
   "metadata": {},
   "outputs": [
    {
     "data": {
      "image/png": "[encoded data removed]",
      "text/plain": [
       "<Figure size 360x360 with 1 Axes>"
      ]
     },
     "metadata": {},
     "output_type": "display_data"
    }
   ],
   "source": [
    "#Построим график линейной модели регрессии и облака наблюдений\n",
    "#Задаем функцию по линейной прямой в переменную y_pred\n",
    "y_pred = model.intercept_ + model.coef_ * npXi\n",
    "# создаём область, в которой будет отображаться график\n",
    "#npXi = np.linspace(-0.02,0.01,10)\n",
    "# рисуем графики\n",
    "plt.plot(npXi, y_pred, 'go-', label='line 1', linewidth=1)\n",
    "scatter(Xi, Yi)\n",
    "# показываем график\n",
    "plt.show()"
   ]
  },
  {
   "cell_type": "code",
   "execution_count": 460,
   "metadata": {},
   "outputs": [
    {
     "name": "stdout",
     "output_type": "stream",
     "text": [
      "[[0]\n",
      " [1]\n",
      " [2]\n",
      " [3]\n",
      " [4]\n",
      " [5]\n",
      " [6]\n",
      " [7]\n",
      " [8]\n",
      " [9]]\n",
      "[-0.00298023  0.0563706   0.11572144  0.17507227  0.2344231   0.29377394\n",
      "  0.35312477  0.4124756   0.47182644  0.53117727]\n"
     ]
    },
    {
     "data": {
      "image/png": "[encoded data removed]",
      "text/plain": [
       "<Figure size 360x360 with 1 Axes>"
      ]
     },
     "metadata": {},
     "output_type": "display_data"
    }
   ],
   "source": [
    "#Используя нашу линейную регрессионную модель, зададим регрессор x_new - 1,2,3,4,5 \n",
    "#Найдем значения критериальных переменных Y и построим график\n",
    "x_new = np.arange(10).reshape((-1, 1))\n",
    "y_new = model.predict(x_new)\n",
    "scatter(x_new, y_new)\n",
    "print(x_new)\n",
    "print(y_new)"
   ]
  },
  {
   "cell_type": "code",
   "execution_count": null,
   "metadata": {},
   "outputs": [],
   "source": []
  },
  {
   "cell_type": "code",
   "execution_count": null,
   "metadata": {},
   "outputs": [],
   "source": []
  }
 ],
 "metadata": {
  "kernelspec": {
   "display_name": "Python 3",
   "language": "python",
   "name": "python3"
  },
  "language_info": {
   "codemirror_mode": {
    "name": "ipython",
    "version": 3
   },
   "file_extension": ".py",
   "mimetype": "text/x-python",
   "name": "python",
   "nbconvert_exporter": "python",
   "pygments_lexer": "ipython3",
   "version": "3.7.4"
  }
 },
 "nbformat": 4,
 "nbformat_minor": 2
}
